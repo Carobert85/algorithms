{
 "cells": [
  {
   "cell_type": "markdown",
   "source": [
    "Author: Charles Mendelson\n",
    "2020-01-30\n",
    "Bradfield CS Algorithms 2020-02 class 1 prework\n",
    "\n"
   ],
   "metadata": {
    "collapsed": false,
    "pycharm": {
     "name": "#%% md\n"
    }
   }
  },
  {
   "cell_type": "markdown",
   "metadata": {
    "collapsed": true,
    "pycharm": {
     "name": "#%% md\n"
    }
   },
   "source": [
    "# Pangrams V1\n"
   ]
  },
  {
   "cell_type": "markdown",
   "source": [
    "## Understanding the problem:\n",
    "\n",
    "### What is the unknown?\n",
    "1. Whether a given input is an english language pangram?\n",
    "\n",
    "### What is the data (known)?\n",
    "1. Pangram: A string that contains at least one of every letter in the alphabet\n",
    "2. There are 26 letters in the alphabet\n",
    "3. The letters are ABCDEFGHIJKLMNOPQRSTUVWXYZ\n",
    "\n",
    "### What is the condition (assumptions or things that otherwise need to be true for us to solve the problem)?\n",
    "\n",
    "1. We don't care about non alphebetic characters\n",
    "2. We don't care whether a letter is capitalized\n",
    "3. We don't care if letters have duplicates\n",
    "4. We don't care about the order of the letters\n"
   ],
   "metadata": {
    "collapsed": false
   }
  },
  {
   "cell_type": "markdown",
   "source": [
    "## Devising a plan\n",
    "1. If the length of the initial string is less than 26 it cannot be a pangram\n",
    "2. We need to remove the non alphabetic characters from the initial string\n",
    "3. If the length of the cleaned string is less than 26 it cannot be a pangram\n",
    "4. We need to remove the duplicate characters from the cleaned string\n",
    "5. If the length of the cleaned string with duplicates removed = 26 then it is a pangram"
   ],
   "metadata": {
    "collapsed": false
   }
  },
  {
   "cell_type": "code",
   "execution_count": null,
   "outputs": [],
   "source": [
    "# Carry out the plan\n",
    "\n",
    "alphabet_list = ['a', 'b', 'c', 'd', 'e', 'f', 'g', 'h', 'i', 'j', 'k', 'l', 'm', 'n', 'o', 'p', 'q', 'r', 's', 't',\n",
    "                 'u', 'v', 'w', 'x', 'y', 'z']\n",
    "\n",
    "initial_input = input('Please type a string you think is a pangram here >>> ')\n",
    "\n",
    "def is_pangram(initial_input):\n",
    "    initial_input = initial_input.lower()\n",
    "    # print(initial_input)\n",
    "    cleaned_list = []\n",
    "\n",
    "    if len(initial_input) < 26:\n",
    "        return False\n",
    "    else:\n",
    "        for char in initial_input:\n",
    "            if char in alphabet_list:\n",
    "                cleaned_list.append(char)\n",
    "        # print(cleaned_list)\n",
    "\n",
    "        if len(cleaned_list) < 26:\n",
    "            return False\n",
    "        else:\n",
    "            cleaned_list = ((set(cleaned_list)))\n",
    "            # print(cleaned_list)\n",
    "\n",
    "            if len(cleaned_list) == 26:\n",
    "                return True\n",
    "            else:\n",
    "                return False\n",
    "\n",
    "is_pangram(initial_input)"
   ],
   "metadata": {
    "collapsed": false,
    "pycharm": {
     "name": "#%%\n"
    }
   }
  },
  {
   "cell_type": "markdown",
   "source": [
    "### Examine the solution obtained\n",
    "\n",
    "1. Can you check the result? Yes, the sentence \"The quick brown fox jumps over the lazy dog\" returns True\n",
    "and removing letters from it returns False\n",
    "\n",
    "2. Can you derive the results differently? Yes, this is a computationally expensive way of solving this problem.\n",
    "It must iterate through an unknown number of characters because it must loop through the string that was entered."
   ],
   "metadata": {
    "collapsed": false
   }
  },
  {
   "cell_type": "markdown",
   "source": [
    "# Pangrams V2\n",
    "\n",
    "## Understanding the problem:\n",
    "\n",
    "### What is the unknown?\n",
    "1. Whether a given input is an english language pangram?\n",
    "\n",
    "### What is the data (known)?\n",
    "1. Pangram: A string that contains at least one of every letter in the alphabet\n",
    "2. There are 26 letters in the alphabet\n",
    "3. The letters are ABCDEFGHIJKLMNOPQRSTUVWXYZ\n",
    "4. If a letter is not in a string it cannot be a pangram\n",
    "\n",
    "\n",
    "### What is the condition (assumptions or things that otherwise need to be true for us to solve the problem)?\n",
    "\n",
    "1. We don't care about non alphebetic characters\n",
    "2. We don't care whether or not a letter is capitalized\n",
    "3. We don't care if letters have duplicates\n",
    "4. We don't care about the order of the letters"
   ],
   "metadata": {
    "collapsed": false
   }
  },
  {
   "cell_type": "markdown",
   "source": [
    "## Devising a plan\n",
    "1. If the length of the input is less than 26 it cannot be a pangram\n",
    "2. If a letter is not in the input it is not a pangram\n",
    "4. If we iterate through the alphabet we have at most 26 cycles to go through"
   ],
   "metadata": {
    "collapsed": false
   }
  },
  {
   "cell_type": "code",
   "source": [
    "letter_list = ['a', 'b', 'c', 'd', 'e', 'f', 'g', 'h', 'i', 'j', 'k', 'l', 'm', 'n', 'o', 'p', 'q', 'r', 's', 't',\n",
    "                 'u', 'v', 'w', 'x', 'y', 'z']\n",
    "def is_pangram(input_string):\n",
    "    pangram = True\n",
    "    if len(input_string) < 26:\n",
    "        pangram = False\n",
    "\n",
    "    else:\n",
    "        input_string = input_string.lower()\n",
    "        for letter in letter_list:\n",
    "            if letter not in input_string:\n",
    "                pangram = False\n",
    "                break\n",
    "    return pangram\n",
    "\n",
    "is_pangram(\"The quick brown fox jumps over the lazy dog\")\n",
    "\n"
   ],
   "metadata": {
    "collapsed": false,
    "pycharm": {
     "name": "#%%\n"
    }
   },
   "execution_count": null,
   "outputs": []
  },
  {
   "cell_type": "markdown",
   "source": [
    "### Examine the solution obtained\n",
    "\n",
    "1. Can you check the result? Yes, the sentence \"The quick brown fox jumps over the lazy dog\" returns True\n",
    "and removing letters from it returns False\n",
    "\n",
    "2. Can you derive the results differently? This solution is pretty good. It is limited to 26 iterations through it,\n",
    "but it could be better. 'Z' is an uncommon letter, and will only be discovered on the last iteration of the loop.\n",
    "It would be more computationally efficient to loop through the letters in reverse order of their commonality.\n"
   ],
   "metadata": {
    "collapsed": false,
    "pycharm": {
     "name": "#%% md\n"
    }
   }
  },
  {
   "cell_type": "markdown",
   "source": [
    "# Pangrams V3\n",
    "\n",
    "## Understanding the problem:\n",
    "\n",
    "### What is the unknown?\n",
    "1. Whether a given input is an english language pangram?\n",
    "\n",
    "### What is the data (known)?\n",
    "1. Pangram: A string that contains at least one of every letter in the alphabet\n",
    "2. There are 26 letters in the alphabet\n",
    "3. The letters are ABCDEFGHIJKLMNOPQRSTUVWXYZ\n",
    "4. If a letter is not in a string it cannot be a pangram\n",
    "5. The commonality of letters from least to greatest is: QJZXVKWYFBGHMPDUCLSNTOIRAE\n",
    "Source: https://www3.nd.edu/~busiforc/handouts/cryptography/letterfrequencies.html\n",
    "\n",
    "### What is the condition (assumptions or things that otherwise need to be true for us to solve the problem)?\n",
    "\n",
    "1. We don't care about non alphebetic characters\n",
    "2. We don't care whether or not a letter is capitalized\n",
    "3. We don't care if letters have duplicates\n",
    "4. We don't care about the order of the letters"
   ],
   "metadata": {
    "collapsed": false
   }
  },
  {
   "cell_type": "markdown",
   "source": [
    "## Devising a plan\n",
    "1. If the length of the input is less than 26 it cannot be a pangram\n",
    "2. If a letter is not in the input it is not a pangram\n",
    "3. If we progress through the alphabet from least common to most common letters, that will be more computationally\n",
    "efficient because a failure is more likely to occur on an early iteration\n",
    "4. If we iterate through the alphabet we have at most 26 cycles to go through O(n)\n"
   ],
   "metadata": {
    "collapsed": false
   }
  },
  {
   "cell_type": "code",
   "source": [
    "# Execute the plan:\n",
    "\n",
    "letter_list = ['Q', 'J', 'Z', 'X', 'V', 'K', 'W', 'Y', 'F', 'B', 'G', 'H', 'M',\n",
    "               'P', 'D', 'U', 'C', 'L', 'S', 'N', 'T', 'O', 'I', 'R', 'A', 'E']\n",
    "\n",
    "def is_pangram(input_string):\n",
    "    pangram = True\n",
    "    if len(input_string) < 26:\n",
    "        pangram = False\n",
    "\n",
    "    else:\n",
    "        input_string = input_string.upper()\n",
    "        for letter in letter_list:\n",
    "            if letter not in input_string:\n",
    "                pangram = False\n",
    "                break\n",
    "    return pangram\n",
    "\n",
    "is_pangram(\"The quick brown fox jumps over the lay dog\")\n"
   ],
   "metadata": {
    "collapsed": false,
    "pycharm": {
     "name": "#%%\n"
    }
   },
   "execution_count": 2,
   "outputs": [
    {
     "data": {
      "text/plain": "False"
     },
     "execution_count": 2,
     "metadata": {},
     "output_type": "execute_result"
    }
   ]
  },
  {
   "cell_type": "markdown",
   "source": [
    " 1. Can you check the result? Yes, the sentence \"The quick brown fox jumps over the lazy dog\" returns True\n",
    "and removing letters from it returns False\n",
    "\n",
    "2. Can you derive the results differently? Probably, but I am pretty satisfied with the solution.\n",
    "I am sure it could be more concise using list comprehensions or lamda expressions but this solution is more readable."
   ],
   "metadata": {
    "collapsed": false
   }
  }
 ],
 "metadata": {
  "kernelspec": {
   "display_name": "Python 3",
   "language": "python",
   "name": "python3"
  },
  "language_info": {
   "codemirror_mode": {
    "name": "ipython",
    "version": 2
   },
   "file_extension": ".py",
   "mimetype": "text/x-python",
   "name": "python",
   "nbconvert_exporter": "python",
   "pygments_lexer": "ipython2",
   "version": "2.7.6"
  }
 },
 "nbformat": 4,
 "nbformat_minor": 0
}